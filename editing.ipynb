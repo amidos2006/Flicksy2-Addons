{
 "cells": [
  {
   "cell_type": "code",
   "execution_count": null,
   "metadata": {},
   "outputs": [
    {
     "ename": "FileNotFoundError",
     "evalue": "[Errno 2] No such file or directory: 'input.html'",
     "output_type": "error",
     "traceback": [
      "\u001b[0;31m---------------------------------------------------------------------------\u001b[0m",
      "\u001b[0;31mFileNotFoundError\u001b[0m                         Traceback (most recent call last)",
      "Input \u001b[0;32mIn [21]\u001b[0m, in \u001b[0;36m<cell line: 10>\u001b[0;34m()\u001b[0m\n\u001b[1;32m      7\u001b[0m highlight \u001b[38;5;241m=\u001b[39m \u001b[38;5;124m\"\u001b[39m\u001b[38;5;124mdefault cursor highlight\u001b[39m\u001b[38;5;124m\"\u001b[39m\n\u001b[1;32m      8\u001b[0m musicFile \u001b[38;5;241m=\u001b[39m \u001b[38;5;124m\"\u001b[39m\u001b[38;5;124mmusic.mp3\u001b[39m\u001b[38;5;124m\"\u001b[39m\n\u001b[0;32m---> 10\u001b[0m \u001b[38;5;28;01mwith\u001b[39;00m \u001b[38;5;28;43mopen\u001b[39;49m\u001b[43m(\u001b[49m\u001b[43minputfile\u001b[49m\u001b[43m)\u001b[49m \u001b[38;5;28;01mas\u001b[39;00m file: \n\u001b[1;32m     11\u001b[0m     soup \u001b[38;5;241m=\u001b[39m BeautifulSoup(file\u001b[38;5;241m.\u001b[39mread(), \u001b[38;5;124m'\u001b[39m\u001b[38;5;124mhtml.parser\u001b[39m\u001b[38;5;124m'\u001b[39m) \n\u001b[1;32m     13\u001b[0m grammarly \u001b[38;5;241m=\u001b[39m soup\u001b[38;5;241m.\u001b[39mfind(\u001b[38;5;124m'\u001b[39m\u001b[38;5;124mgrammarly-desktop-integration\u001b[39m\u001b[38;5;124m'\u001b[39m)\n",
      "\u001b[0;31mFileNotFoundError\u001b[0m: [Errno 2] No such file or directory: 'input.html'"
     ]
    }
   ],
   "source": [
    "from bs4 import BeautifulSoup \n",
    "import json\n",
    "import os\n",
    "\n",
    "inputfile = \"queenboat.html\"\n",
    "outputfile = \"index.html\"\n",
    "highlight = \"default cursor highlight\"\n",
    "musicFile = \"music.mp3\"\n",
    "\n",
    "with open(inputfile) as file: \n",
    "    soup = BeautifulSoup(file.read(), 'html.parser') \n",
    "  \n",
    "grammarly = soup.find('grammarly-desktop-integration')\n",
    "grammarly.replace_with('')\n",
    "\n",
    "cssblock = soup.find('style', {'id': 'player-style'})\n",
    "with open('player-style.css') as file:\n",
    "    cssblock.clear()\n",
    "    cssblock.append(file.read())\n",
    "\n",
    "playerjs = soup.find('script', {'id': 'player.js'})\n",
    "with open('player.js') as file:\n",
    "    playerjs.clear()\n",
    "    playerjs.append(file.read())\n",
    "\n",
    "mainjs = soup.find('script', {'id': 'main.js'})\n",
    "with open('main.js') as file:\n",
    "    mainjs.clear()\n",
    "    mainjs.append(file.read())\n",
    "\n",
    "textjs = soup.find('script', {'id': 'text.js'})\n",
    "with open('text.js') as file:\n",
    "    textjs.clear()\n",
    "    textjs.append(file.read())\n",
    "\n",
    "projectdata = soup.find('script', {'id': 'project-data'})\n",
    "projectdata_object = json.loads(projectdata.text)\n",
    "for img in projectdata_object[\"drawings\"]:\n",
    "    if img[\"name\"] == highlight:\n",
    "        projectdata_object[\"state\"][\"cursor_highlight\"] = img[\"id\"]\n",
    "projectdata.clear()\n",
    "projectdata.append(json.dumps(projectdata_object))\n",
    "\n",
    "sfxrjs = soup.new_tag('script')\n",
    "sfxrjs.attrs[\"id\"] = \"sfxr.js\"\n",
    "with open('sfxr.js') as file:\n",
    "    sfxrjs.append(file.read())\n",
    "soup.append(sfxrjs)\n",
    "\n",
    "musicjs = soup.new_tag('script')\n",
    "musicjs.attrs[\"id\"] = \"music.js\"\n",
    "with open('music.js') as file:\n",
    "    musicjs.append(file.read())\n",
    "soup.append(musicjs)\n",
    "\n",
    "body = soup.find('body')\n",
    "\n",
    "if os.path.exists(musicFile):\n",
    "    body = soup.find('body')\n",
    "    body.attrs['onload'] = f\"start('{musicFile}')\"\n",
    "\n",
    "with open(outputfile, \"wb\") as file:\n",
    "    html = soup.prettify(\"utf-8\")\n",
    "    file.write(html)"
   ]
  }
 ],
 "metadata": {
  "kernelspec": {
   "display_name": "notebook",
   "language": "python",
   "name": "python3"
  },
  "language_info": {
   "codemirror_mode": {
    "name": "ipython",
    "version": 3
   },
   "file_extension": ".py",
   "mimetype": "text/x-python",
   "name": "python",
   "nbconvert_exporter": "python",
   "pygments_lexer": "ipython3",
   "version": "3.8.12"
  }
 },
 "nbformat": 4,
 "nbformat_minor": 2
}
